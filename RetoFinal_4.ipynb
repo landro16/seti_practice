{
 "cells": [
  {
   "cell_type": "code",
   "execution_count": null,
   "metadata": {},
   "outputs": [],
   "source": [
    "def descuentos(): #Se crea una funcion para calcular los descuentos\n",
    "    Precio_Articulos = int(input(\"Ingrese el precio de sus productos: \"))#insertando valor de los articulos del cliente\n",
    "    if Precio_Articulos <= 0:#verificando que el valor no sea menor a cero\n",
    "        print(\"Por favor, ingresar un valor mayor a cero \")\n",
    "        return\n",
    "    else:\n",
    "        if Precio_Articulos <= 150000:#Comprobando descuento para valores menores a 150.000\n",
    "            print(\"No aplican descuentos para su compra\")\n",
    "            print(f\"Su compra tiene un valor total de: ${Precio_Articulos:,.2f}\")#indicando valor total de la compra\n",
    "            \n",
    "        elif Precio_Articulos > 150000 and Precio_Articulos <= 250000:#Verificando que el valor de los articulos se encuentren en el rango correcto entre 150.000 y 250.000\n",
    "            descuento1 = 0.05#descuento autorizado para el rango definido\n",
    "            Valordescuento1 = Precio_Articulos * descuento1#calculando el valor neto del descuento\n",
    "            valortotal1 = Precio_Articulos - Valordescuento1 #Calculando valor total a pagar \n",
    "            print(\"Su compra tiene un descuento del 5%\")\n",
    "            print(f\"Su compra tiene un valor sin descuento de: ${Precio_Articulos:,.2f} pesos\")#indicando el valor de compra sin descuento\n",
    "            print(f\"El valor del descuento es: ${Valordescuento1:,.2f} pesos\")\n",
    "            print(f\"El precio que debe pagar usted es de: {valortotal1:,.2f} pesos\")\n",
    "\n",
    "        elif Precio_Articulos > 250000 and Precio_Articulos <= 500000:#verificando rango entre 250000 y 500000\n",
    "            descuento2 = 0.07#Indicando valor de descuento para el rango definido\n",
    "            Valordescuento2 = Precio_Articulos * descuento2 #Calculando valor del descuento\n",
    "            valortotal2 = Precio_Articulos - Valordescuento2 #Calculando valor total a pagar\n",
    "            print(\"Su compra tiene un descuento del 7%\")\n",
    "            print(f\"Su compra tiene un valor sin descuento de: ${Precio_Articulos:,.2f} pesos\")\n",
    "            print(f\"El valor del descuento es: ${Valordescuento2:,.2f} pesos\")\n",
    "            print(f\"El precio que debe pagar usted es de: {valortotal2:,.2f} pesos\")  \n",
    "\n",
    "        elif Precio_Articulos > 500000 and Precio_Articulos <= 800000:#Verificando que el valor de los articulos se encuentren en el rango correcto entre 500.000 y 800.000\n",
    "            descuento3 = 0.09 #idnicando valor descuento para el rango definido\n",
    "            Valordescuento3 = Precio_Articulos * descuento3 #calculando valor descuento\n",
    "            valortotal3 = Precio_Articulos - Valordescuento3 #Calculando valor total a pagar\n",
    "            print(\"Su compra tiene un descuento del 9%\")\n",
    "            print(f\"Su compra tiene un valor sin descuento de: ${Precio_Articulos:,.2f} pesos\")\n",
    "            print(f\"El valor del descuento es: ${Valordescuento3:,.2f} pesos\")\n",
    "            print(f\"El precio que debe pagar usted es de: {valortotal3:,.2f} pesos\")\n",
    "\n",
    "        elif Precio_Articulos > 800000: #Verificando que el valor este por encima de los 800.000\n",
    "            descuento4 = 0.12 #definiendo descuento para el valor designado\n",
    "            Valordescuento4 = Precio_Articulos * descuento4 #calculando valor del descuento\n",
    "            valortotal4 = Precio_Articulos - Valordescuento4 #Calculando valor total a pagar\n",
    "            print(\"Su compra tiene un descuento del 12%\")\n",
    "            print(f\"Su compra tiene un valor sin descuento de: ${Precio_Articulos:,.2f} pesos\")\n",
    "            print(f\"El valor del descuento es: ${Valordescuento4:,.2f} pesos\")\n",
    "            print(f\"El precio que debe pagar usted es de: {valortotal4:,.2f} pesos\")          \n",
    "descuentos()\n"
   ]
  }
 ],
 "metadata": {
  "language_info": {
   "name": "python"
  }
 },
 "nbformat": 4,
 "nbformat_minor": 2
}

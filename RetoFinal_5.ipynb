{
 "cells": [
  {
   "cell_type": "code",
   "execution_count": 13,
   "metadata": {},
   "outputs": [],
   "source": [
    "import pandas                as pd\n",
    "import matplotlib.pyplot     as plt\n",
    "import seaborn               as sns\n",
    "import os"
   ]
  },
  {
   "cell_type": "code",
   "execution_count": 14,
   "metadata": {},
   "outputs": [
    {
     "name": "stdout",
     "output_type": "stream",
     "text": [
      "     . id      Nombre    Salario\n",
      "0  NaN  1     Leandro  2000000.0\n",
      "1  NaN  2   Christian  3000000.0\n",
      "2  NaN  3  Juan Diego  4000000.0\n",
      "3  NaN  4       Loren  5000000.0\n"
     ]
    }
   ],
   "source": [
    "#Nombrando variables para guardar base de datos\n",
    "BD_CSV ='BD_Empleados.csv'\n",
    "\n",
    "#Verificando si el archivo si existe\n",
    "if os.path.isfile(BD_CSV):\n",
    "    #Si existe el archivo cargar datos en DataFrame\n",
    "    df = pd.read_csv(BD_CSV)\n",
    "else: \n",
    "# Si no existe, crear un DataFrame vacío con las columnas\n",
    "    df = pd.DataFrame(columns=['id', 'Nombre', 'Salario'])\n",
    "\n",
    "#Determinar la cantidad de registros a ingresar\n",
    "cantidad_registros = int (input(\"ingrese la cantidad de registros que desea hacer\"))\n",
    "\n",
    "#Lista para almacenar los nuevos registros\n",
    "nuevos_registros = []\n",
    "\n",
    "# Ciclo para ingresar los registros\n",
    "    \n",
    "for _ in range(cantidad_registros):\n",
    "    id = input(\"Ingrese el ID del empleado: \")\n",
    "    nombre = input(\"Ingrese el nombre del empleado: \")\n",
    "    salario = int(input(\"Ingrese el salario del empleado: \"))\n",
    "   \n",
    "    # Crear un diccionario con los datos ingresados\n",
    "    nuevo_registro = {'id': id, 'Nombre': nombre, 'Salario': salario}\n",
    "    nuevos_registros.append(nuevo_registro)\n",
    "\n",
    "# Convertir la lista de diccionarios en un DataFrame temporal\n",
    "nuevos_df = pd.DataFrame(nuevos_registros)\n",
    " \n",
    "# Concatenar el DataFrame temporal con el DataFrame existente\n",
    "df = pd.concat([df, nuevos_df], ignore_index=True)\n",
    " \n",
    "# Mostrar el DataFrame resultante\n",
    "print(df)\n",
    " \n",
    "# Guardar el DataFrame completo (datos antiguos + nuevos registros) en un archivo CSV\n",
    "df.to_csv(BD_CSV, index=False)\n",
    " "
   ]
  }
 ],
 "metadata": {
  "kernelspec": {
   "display_name": "Python 3",
   "language": "python",
   "name": "python3"
  },
  "language_info": {
   "codemirror_mode": {
    "name": "ipython",
    "version": 3
   },
   "file_extension": ".py",
   "mimetype": "text/x-python",
   "name": "python",
   "nbconvert_exporter": "python",
   "pygments_lexer": "ipython3",
   "version": "3.11.5"
  }
 },
 "nbformat": 4,
 "nbformat_minor": 2
}

{
 "cells": [
  {
   "cell_type": "code",
   "execution_count": 2,
   "metadata": {},
   "outputs": [
    {
     "data": {
      "text/plain": [
       "'3.\\tEscriba un programa en Python que imprima los 89 primeros valores de la seria Fibonacci.'"
      ]
     },
     "execution_count": 2,
     "metadata": {},
     "output_type": "execute_result"
    }
   ],
   "source": [
    "'''3.\tEscriba un programa en Python que imprima los 89 primeros valores de la seria Fibonacci.'''"
   ]
  },
  {
   "cell_type": "code",
   "execution_count": 3,
   "metadata": {},
   "outputs": [
    {
     "name": "stdout",
     "output_type": "stream",
     "text": [
      "[0, 1, 1, 2, 3, 5, 8, 13, 21, 34, 55, 89, 144, 233, 377, 610, 987, 1597, 2584, 4181, 6765, 10946, 17711, 28657, 46368, 75025, 121393, 196418, 317811, 514229, 832040, 1346269, 2178309, 3524578, 5702887, 9227465, 14930352, 24157817, 39088169, 63245986, 102334155, 165580141, 267914296, 433494437, 701408733, 1134903170, 1836311903, 2971215073, 4807526976, 7778742049, 12586269025, 20365011074, 32951280099, 53316291173, 86267571272, 139583862445, 225851433717, 365435296162, 591286729879, 956722026041, 1548008755920, 2504730781961, 4052739537881, 6557470319842, 10610209857723, 17167680177565, 27777890035288, 44945570212853, 72723460248141, 117669030460994, 190392490709135, 308061521170129, 498454011879264, 806515533049393, 1304969544928657, 2111485077978050, 3416454622906707, 5527939700884757, 8944394323791464, 14472334024676221, 23416728348467685, 37889062373143906, 61305790721611591, 99194853094755497, 160500643816367088, 259695496911122585, 420196140727489673, 679891637638612258, 1100087778366101931]\n"
     ]
    }
   ],
   "source": [
    "num= int(input(\"Por favor insertar el numero de repeticiones para la serie fibonacci\"))\n",
    "\n",
    "#Definiendo funcion serie de fibonacci para ser invocada cuando sea necesario\n",
    "def fibonacci(num):\n",
    "    arr = [0, 1] #se crea un arreglo inicial con los dos primeros numeros de la serie \n",
    "    if num == 1: #se maneja la respuesta al usuario cuando inserte solamente 1 repeticion de la serie\n",
    "        print(\"0\") #si el usuario inserta el 1 siempre se va a mostrar el cero por regla de fibonacci\n",
    "    elif num == 2: #si el usuario inserta el 2 siempre enseña el 1 por serie de fibonacci\n",
    "        print(\"[0,\", \"1]\") #se imprime un arreglo con los dos primeros nuemros de la serie cuando el usuario iserta 2\n",
    "    else:\n",
    "        while len(arr) < num: #cuando el usuario solicita ver mas de 2 numeros de la serie se genera un ciclo while mientras sea el numero menor al tamaño del arreglo\n",
    "            arr.append(0) #se inserta un espacio adicional en el arreglo con un 0, esto se hace hasta crear el arreglo del tamaño solicitado en num\n",
    "        if num == 0 or num == 1: #manejando probabilidad de opciones del usuario para el tamaño de vector\n",
    "            return 1\n",
    "        else: #Se llena el vector con las reglas de fibonacci\n",
    "            arr[0] = 0 #siempre se llena la primera posicion con un 0\n",
    "            arr[1] = 1 #segunda posicicion siempre con 1\n",
    "            for i in range(2, num): #estableciendo llenado de posiciones a partir de la posicion 2\n",
    "                arr[i] = arr[i - 1] + arr[i - 2] #Llenando posiciones con regla fibonacci\n",
    "            print(arr) #se imprime el vector\n",
    "\n",
    "fibonacci(num) #Llamado de la funcion"
   ]
  }
 ],
 "metadata": {
  "kernelspec": {
   "display_name": "Python 3",
   "language": "python",
   "name": "python3"
  },
  "language_info": {
   "codemirror_mode": {
    "name": "ipython",
    "version": 3
   },
   "file_extension": ".py",
   "mimetype": "text/x-python",
   "name": "python",
   "nbconvert_exporter": "python",
   "pygments_lexer": "ipython3",
   "version": "3.11.5"
  }
 },
 "nbformat": 4,
 "nbformat_minor": 2
}

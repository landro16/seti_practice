{
 "cells": [
  {
   "cell_type": "code",
   "execution_count": 1,
   "metadata": {},
   "outputs": [
    {
     "name": "stdout",
     "output_type": "stream",
     "text": [
      "                                                   Bienvenido a SETI Food\n",
      "\n",
      "\n",
      "                                       Presione el numero del producto que desea ordenar uno a la vez\n",
      "                                                (El numero es el que se ve al lado izquierdo del producto)\n",
      "                                            \n",
      "                                                1 - Hamburguesa: 20.000)\n",
      "                                                2 - Salchipapas: 18.000\n",
      "                                                3 - Hot Dog: 22.000\n",
      "                                                4 - Combo Hamburguesa doble queso: 30.000\n"
     ]
    }
   ],
   "source": [
    "#Menu de comidas\n",
    "\n",
    "# print('''                                                   Bienvenido a SETI Food''')\n",
    "# print('\\n'\n",
    "# )\n",
    "# print('''                                       Presione el numero del producto que desea ordenar uno a la vez\n",
    "#                                                 (El numero es el que se ve al lado izquierdo del producto)\n",
    "                                            \n",
    "#                                                 1 - Hamburguesa: 20.000)\n",
    "#                                                 2 - Salchipapas: 18.000\n",
    "#                                                 3 - Hot Dog: 22.000\n",
    "#                                                 4 - Combo Hamburguesa doble queso: 30.000''')\n",
    "\n"
   ]
  },
  {
   "cell_type": "code",
   "execution_count": null,
   "metadata": {},
   "outputs": [],
   "source": [
    "#segundo intento\n",
    "\n",
    "menu = {\n",
    "    \"Hamburguesa\" : 20.0000,\n",
    "    \"Pizza\" : 35.0000,\n",
    "    \"Perro\" : 15.0000,\n",
    "    \"Perra\" : 20.0000,\n",
    "    \"Esalada de frutas\" : 15.0000,\n",
    "    \"Salchipapa\" : 15.0000,\n",
    "    \"Gaseosa\" : 3.000,\n",
    "    \"cerveza\" : 4.000,\n",
    "\n",
    "}\n",
    "\n",
    "Factura = 0\n",
    "\n",
    "while True:\n",
    "    print(\"Menu\")\n",
    "    for item,precio in menu.items():\n",
    "        print(f\"{item}: ${precio}\")\n",
    "\n",
    "    seleccion = input(\"Seleccione un elemento del menu o escriba salir para terminar\")\n",
    "\n",
    "    if seleccion.lower() == \"salir\":\n",
    "        break\n",
    "\n",
    "    try:\n",
    "        precio_seleccionado = menu[seleccion]\n",
    "        Factura += precio_seleccionado\n",
    "        print(f\"seleccionaste {seleccion} por ${precio_seleccionado:.2f}\")\n",
    "    except KeyError:\n",
    "        print(\"El elemento seleccionado no esta en el menu, por favor selecciona un elemento\")\n",
    "        continue\n",
    "\n",
    "print(f\"Tu total es de ${Factura:.2f}. ¡Gracias por preferirnos!\")\n"
   ]
  }
 ],
 "metadata": {
  "kernelspec": {
   "display_name": "Python 3",
   "language": "python",
   "name": "python3"
  },
  "language_info": {
   "codemirror_mode": {
    "name": "ipython",
    "version": 3
   },
   "file_extension": ".py",
   "mimetype": "text/x-python",
   "name": "python",
   "nbconvert_exporter": "python",
   "pygments_lexer": "ipython3",
   "version": "3.11.5"
  }
 },
 "nbformat": 4,
 "nbformat_minor": 2
}

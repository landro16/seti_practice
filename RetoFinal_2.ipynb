{
 "cells": [
  {
   "cell_type": "code",
   "execution_count": null,
   "metadata": {},
   "outputs": [],
   "source": [
    "#Punto 3\n",
    "'''2.En una empresa, la cantidad de horas semanales trabajadas en el horario normal es de 36.\n",
    " La cantidad de horas trabajadas adicionales se consideran horas extras, y se pagan con un recargo del 25%. \n",
    "Calcular el salario mensual obtenido por el trabajador conociendo los siguientes datos:\n",
    " Nombre, número de horas trabajadas en la semana y valor recibido por una hora normal de trabajo.'''"
   ]
  },
  {
   "cell_type": "code",
   "execution_count": null,
   "metadata": {},
   "outputs": [],
   "source": [
    "#Usando funciones, se define una funcion que calcule el salario mensual del trabajador\n",
    "import locale\n",
    "\n",
    "def calcular_Salario():\n",
    "     NameTrabajador = input(\"Ingresar el nombre del trabajador\")\n",
    "     CantHoraLaborada = float (input(\"Ingresar el numero de horas trabajadas semanales\"))\n",
    "     ValorHora = float(input(\"Ingrese el valor de la hora del trabajador\"))\n",
    "     Recargo = ValorHora + (ValorHora * 0.25)  # type: ignore\n",
    "     HorasExtra = CantHoraLaborada - 36\n",
    "\n",
    "     if CantHoraLaborada < 36:\n",
    "        print(f\"Por favor el numero de horas ingresadas para {NameTrabajador}, es no debe ser menor a 36\")\n",
    "     elif ValorHora <=0:\n",
    "        print(f\"Por favor, el valor de hora ingresada {NameTrabajador}, es no debe ser menor a 0\")\n",
    "     elif CantHoraLaborada > 36:\n",
    "         SalSinRecargo = CantHoraLaborada * ValorHora\n",
    "         CalcRegargo = HorasExtra * Recargo\n",
    "         TotalSalario = SalSinRecargo + CalcRegargo\n",
    "         print(f\"El valor a pagar al trabajador con recargo es {TotalSalario}\")\n",
    "     else:\n",
    "         if CantHoraLaborada ==36:\n",
    "             TotalSalario = CantHoraLaborada * ValorHora\n",
    "             print(f\"El valor a pagar al trabajador sin recargos es {TotalSalario}\")\n",
    "\n",
    "calcular_Salario()\n",
    "        \n",
    "        \n",
    "        \n",
    "  \n",
    "\n",
    "\n",
    "        \n",
    "   \n",
    "        "
   ]
  }
 ],
 "metadata": {
  "language_info": {
   "name": "python"
  }
 },
 "nbformat": 4,
 "nbformat_minor": 2
}

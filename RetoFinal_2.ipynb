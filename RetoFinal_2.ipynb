{
 "cells": [
  {
   "cell_type": "code",
   "execution_count": null,
   "metadata": {},
   "outputs": [],
   "source": [
    "#Punto 3\n",
    "'''2.En una empresa, la cantidad de horas semanales trabajadas en el horario normal es de 36.\n",
    " La cantidad de horas trabajadas adicionales se consideran horas extras, y se pagan con un recargo del 25%. \n",
    "Calcular el salario mensual obtenido por el trabajador conociendo los siguientes datos:\n",
    " Nombre, número de horas trabajadas en la semana y valor recibido por una hora normal de trabajo.'''"
   ]
  },
  {
   "cell_type": "code",
   "execution_count": 4,
   "metadata": {},
   "outputs": [
    {
     "name": "stdout",
     "output_type": "stream",
     "text": [
      "El valor a pagar al trabajador Alberto con recargo es 820000.0\n"
     ]
    }
   ],
   "source": [
    "#Usando funciones, se define una funcion que calcule el salario mensual del trabajador\n",
    "\n",
    "\n",
    "def calcular_Salario():\n",
    "     #Inicializacion de variables - se usa tipo float debido a que algunos trabajadores pueden laborar cantidades decimales\n",
    "     NameTrabajador = input(\"Ingresar el nombre del trabajador\")\n",
    "     CantHoraLaborada = float (input(\"Ingresar el numero de horas trabajadas semanales\"))\n",
    "     ValorHora = float(input(\"Ingrese el valor de la hora del trabajador\"))\n",
    "     Recargo = ValorHora + (ValorHora * 0.25)  # type: ignore \n",
    "     HorasExtra = CantHoraLaborada - 36\n",
    "#Condicionales para controlar posibilidades\n",
    "     if CantHoraLaborada < 36: #El trabajador no puede ser procesado con una cantidad de horas inferiro a 36\n",
    "        print(f\"Por favor el numero de horas ingresadas para {NameTrabajador}, es no debe ser menor a 36\")\n",
    "     elif ValorHora <=0: #El trabajador no puede ser procesado con un valor de hora menor a 0\n",
    "        print(f\"Por favor, el valor de hora ingresada {NameTrabajador}, es no debe ser menor a 0\")\n",
    "     elif CantHoraLaborada > 36: #cuando el trabajador labora mas 36 horas se calcula su salario mas el recargo extra\n",
    "         SalSinRecargo = (CantHoraLaborada - HorasExtra) * ValorHora\n",
    "         CalcRegargo = HorasExtra * Recargo\n",
    "         TotalSalario = SalSinRecargo + CalcRegargo\n",
    "         print(f\"El valor a pagar al trabajador {NameTrabajador} con recargo es {TotalSalario}\")\n",
    "     else:#cuando el trabajador labora 36 hora exactas no se calcula su recargo\n",
    "         if CantHoraLaborada ==36:\n",
    "             TotalSalario = CantHoraLaborada * ValorHora\n",
    "             print(f\"El valor a pagar al trabajador {NameTrabajador} sin recargos es {TotalSalario}\")\n",
    "\n",
    "calcular_Salario()\n",
    "        \n",
    "        \n",
    "        \n",
    "  \n",
    "\n",
    "\n",
    "        \n",
    "   \n",
    "        "
   ]
  }
 ],
 "metadata": {
  "kernelspec": {
   "display_name": "Python 3",
   "language": "python",
   "name": "python3"
  },
  "language_info": {
   "codemirror_mode": {
    "name": "ipython",
    "version": 3
   },
   "file_extension": ".py",
   "mimetype": "text/x-python",
   "name": "python",
   "nbconvert_exporter": "python",
   "pygments_lexer": "ipython3",
   "version": "3.11.5"
  }
 },
 "nbformat": 4,
 "nbformat_minor": 2
}
